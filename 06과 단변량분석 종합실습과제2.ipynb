{
 "cells": [
  {
   "cell_type": "markdown",
   "metadata": {
    "id": "qXUBfCONOdID"
   },
   "source": [
    "# 06과 단변량분석 종합실습과제"
   ]
  },
  {
   "cell_type": "markdown",
   "metadata": {
    "id": "XOiIUDJ1i11u"
   },
   "source": [
    "* 고객사는 카시트를 판매하는 회사 입니다.\n",
    "* 최근 매출 하락에 대해 각 부서가 파악한 원인 다음과 같습니다. \n",
    "    * 최근에 경쟁사와의 가격 경쟁력이 하락하고 있고, 광고비용이 적절하게 집행되지 않음\n",
    "    * 너무 국내 시장에 집중됨.\n",
    "    * 지역마다의 구매력을 제대로 파악하지 못하고 있음.\n",
    "\n",
    "* 그러나 이러한 분석은 데이터에 근거하고 있는지 의문이 듭니다.\n",
    "* 이 문제를 해결하고자 프로젝트 팀이 빌딩되었습니다. \n",
    "* 여러분은 이 프로젝트팀에 데이터분석전문가 이자 AI 개발자로 참여하고 있습니다.\n",
    "* 드디어 AIVLE 과정에서 배운 [파이썬 라이브러리 활용]과 [데이터 분석] 과정에서 갈고 닦은 실력을 발휘할 기회가 주어졌습니다.\n",
    "* 자, 이제 단변량 분석을 통해 비즈니스 인사이트를 도출해 봅시다!\n"
   ]
  },
  {
   "cell_type": "markdown",
   "metadata": {
    "id": "ox8HObZa3a2O"
   },
   "source": [
    "**단변량 분석 할 때 확인해야 할 점들**\n",
    "\n",
    "* 개별 변수의 분포로 부터…\n",
    "    * 값의 범위 확인\n",
    "    * 데이터가 모여 있는 구간(혹은 범주)와 희박한 구간(혹은 범주) 확인\n",
    "    * 이상치 확인 및 조치 방안\n",
    "    * 결측치 확인 및 조치 방안\n",
    "    * 가변수화, 스케일링 대상 선별\n",
    "\n",
    "* 비즈니스의 일반 사항과 특이사항을 도출\n",
    "    * 추가 분석 대상 도출.\n"
   ]
  },
  {
   "cell_type": "code",
   "execution_count": 62,
   "metadata": {
    "id": "bTVrr9iaLNsy"
   },
   "outputs": [],
   "source": [
    "import pandas as pd\n",
    "import numpy as np\n",
    "\n",
    "import matplotlib.pyplot as plt\n",
    "import seaborn as sns"
   ]
  },
  {
   "cell_type": "markdown",
   "metadata": {
    "id": "bBRhuVPyf4td"
   },
   "source": [
    "## 카시트 판매량 데이터"
   ]
  },
  {
   "cell_type": "markdown",
   "metadata": {
    "id": "7usNzsAVsGbi"
   },
   "source": [
    "![](https://cdn.images.express.co.uk/img/dynamic/24/590x/child-car-seat-986556.jpg?r=1532946857754)"
   ]
  },
  {
   "cell_type": "markdown",
   "metadata": {
    "id": "zYKHwYHatC4k"
   },
   "source": [
    "|\t변수명\t|\t설명\t|\t구분\t|\n",
    "|\t----\t|\t----\t|\t----\t|\n",
    "|\tSales \t|\t 각 지역 판매량(단위 : 1000달러)\t|\tTarget\t|\n",
    "|\tCompPrice \t|\t 경쟁사 가격(단위 : 달러)\t|\tfeature\t|\n",
    "|\tIncome \t|\t 지역 평균 소득(단위 : 1000달러)\t|\tfeature\t|\n",
    "|\tAdvertising \t|\t 각 지역, 회사의 광고 예산(단위 : 1000달러)\t|\tfeature\t|\n",
    "|\tPopulation \t|\t 지역 인구수(단위 : 1000명)\t|\tfeature\t|\n",
    "|\tPrice \t|\t 자사 지역별 판매가격\t|\tfeature\t|\n",
    "|\tShelveLoc \t|\t 진열상태\t|\tfeature\t|\n",
    "|\tAge \t|\t 지역 인구의 평균 연령\t|\tfeature\t|\n",
    "|\tUrban \t|\t 도심 지역 여부(0,1)\t|\tfeature\t|\n",
    "|\tUS \t|\t 매장이 미국에 있는지 여부(0,1)\t|\tfeature\t|\n"
   ]
  },
  {
   "cell_type": "code",
   "execution_count": 63,
   "metadata": {
    "colab": {
     "base_uri": "https://localhost:8080/",
     "height": 206
    },
    "executionInfo": {
     "elapsed": 358,
     "status": "ok",
     "timestamp": 1644139022809,
     "user": {
      "displayName": "한기영",
      "photoUrl": "https://lh3.googleusercontent.com/a/default-user=s64",
      "userId": "13049187003176135487"
     },
     "user_tz": -540
    },
    "id": "08FGuKtjpGOj",
    "outputId": "1561e259-2f66-43b0-ee27-e2391f8a4ba2"
   },
   "outputs": [
    {
     "data": {
      "text/html": [
       "<div>\n",
       "<style scoped>\n",
       "    .dataframe tbody tr th:only-of-type {\n",
       "        vertical-align: middle;\n",
       "    }\n",
       "\n",
       "    .dataframe tbody tr th {\n",
       "        vertical-align: top;\n",
       "    }\n",
       "\n",
       "    .dataframe thead th {\n",
       "        text-align: right;\n",
       "    }\n",
       "</style>\n",
       "<table border=\"1\" class=\"dataframe\">\n",
       "  <thead>\n",
       "    <tr style=\"text-align: right;\">\n",
       "      <th></th>\n",
       "      <th>Sales</th>\n",
       "      <th>CompPrice</th>\n",
       "      <th>Income</th>\n",
       "      <th>Advertising</th>\n",
       "      <th>Population</th>\n",
       "      <th>Price</th>\n",
       "      <th>ShelveLoc</th>\n",
       "      <th>Age</th>\n",
       "      <th>Urban</th>\n",
       "      <th>US</th>\n",
       "    </tr>\n",
       "  </thead>\n",
       "  <tbody>\n",
       "    <tr>\n",
       "      <th>0</th>\n",
       "      <td>9.50</td>\n",
       "      <td>138</td>\n",
       "      <td>73</td>\n",
       "      <td>11</td>\n",
       "      <td>276</td>\n",
       "      <td>120</td>\n",
       "      <td>Bad</td>\n",
       "      <td>42</td>\n",
       "      <td>Yes</td>\n",
       "      <td>Yes</td>\n",
       "    </tr>\n",
       "    <tr>\n",
       "      <th>1</th>\n",
       "      <td>11.22</td>\n",
       "      <td>111</td>\n",
       "      <td>48</td>\n",
       "      <td>16</td>\n",
       "      <td>260</td>\n",
       "      <td>83</td>\n",
       "      <td>Good</td>\n",
       "      <td>65</td>\n",
       "      <td>Yes</td>\n",
       "      <td>Yes</td>\n",
       "    </tr>\n",
       "    <tr>\n",
       "      <th>2</th>\n",
       "      <td>10.06</td>\n",
       "      <td>113</td>\n",
       "      <td>35</td>\n",
       "      <td>10</td>\n",
       "      <td>269</td>\n",
       "      <td>80</td>\n",
       "      <td>Medium</td>\n",
       "      <td>59</td>\n",
       "      <td>Yes</td>\n",
       "      <td>Yes</td>\n",
       "    </tr>\n",
       "    <tr>\n",
       "      <th>3</th>\n",
       "      <td>7.40</td>\n",
       "      <td>117</td>\n",
       "      <td>100</td>\n",
       "      <td>4</td>\n",
       "      <td>466</td>\n",
       "      <td>97</td>\n",
       "      <td>Medium</td>\n",
       "      <td>55</td>\n",
       "      <td>Yes</td>\n",
       "      <td>Yes</td>\n",
       "    </tr>\n",
       "    <tr>\n",
       "      <th>4</th>\n",
       "      <td>4.15</td>\n",
       "      <td>141</td>\n",
       "      <td>64</td>\n",
       "      <td>3</td>\n",
       "      <td>340</td>\n",
       "      <td>128</td>\n",
       "      <td>Bad</td>\n",
       "      <td>38</td>\n",
       "      <td>Yes</td>\n",
       "      <td>No</td>\n",
       "    </tr>\n",
       "  </tbody>\n",
       "</table>\n",
       "</div>"
      ],
      "text/plain": [
       "   Sales  CompPrice  Income  Advertising  Population  Price ShelveLoc  Age  \\\n",
       "0   9.50        138      73           11         276    120       Bad   42   \n",
       "1  11.22        111      48           16         260     83      Good   65   \n",
       "2  10.06        113      35           10         269     80    Medium   59   \n",
       "3   7.40        117     100            4         466     97    Medium   55   \n",
       "4   4.15        141      64            3         340    128       Bad   38   \n",
       "\n",
       "  Urban   US  \n",
       "0   Yes  Yes  \n",
       "1   Yes  Yes  \n",
       "2   Yes  Yes  \n",
       "3   Yes  Yes  \n",
       "4   Yes   No  "
      ]
     },
     "execution_count": 63,
     "metadata": {},
     "output_type": "execute_result"
    }
   ],
   "source": [
    "path = 'https://raw.githubusercontent.com/JunhoYu/Data-Analysis/main/Carseats.csv'\n",
    "data = pd.read_csv(path)\n",
    "data.drop('Education', axis = 1, inplace = True)\n",
    "data.head()"
   ]
  },
  {
   "cell_type": "markdown",
   "metadata": {
    "id": "2KcdJrQNfJCZ"
   },
   "source": [
    "### ① Sales (Target) "
   ]
  },
  {
   "cell_type": "code",
   "execution_count": 64,
   "metadata": {
    "id": "Q5mGnZ5ffJCZ"
   },
   "outputs": [],
   "source": [
    "var = 'Sales'"
   ]
  },
  {
   "cell_type": "markdown",
   "metadata": {
    "id": "RkXL80PpfJCa"
   },
   "source": [
    "1) 변수의 비즈니스 의미"
   ]
  },
  {
   "cell_type": "markdown",
   "metadata": {
    "id": "U9V5UVQ-fJCa"
   },
   "source": [
    "> * 각 지역 판매량(단위 : 1000개)\n",
    "> * Target"
   ]
  },
  {
   "cell_type": "markdown",
   "metadata": {
    "id": "5Lzur-vKfJCa"
   },
   "source": [
    "2) 숫자, 범주?"
   ]
  },
  {
   "cell_type": "markdown",
   "metadata": {
    "id": "SQxdZpGgfJCa"
   },
   "source": [
    "> * 숫자"
   ]
  },
  {
   "cell_type": "markdown",
   "metadata": {
    "id": "KuROaOxIf3AJ"
   },
   "source": [
    "3) NaN 존재 유무 및 조치방안"
   ]
  },
  {
   "cell_type": "code",
   "execution_count": 65,
   "metadata": {
    "id": "1iBtCnnrfJCa"
   },
   "outputs": [
    {
     "data": {
      "text/plain": [
       "0"
      ]
     },
     "execution_count": 65,
     "metadata": {},
     "output_type": "execute_result"
    }
   ],
   "source": [
    "data[var].isna().sum()"
   ]
  },
  {
   "cell_type": "markdown",
   "metadata": {},
   "source": [
    "> * NaN 존재하지 않음"
   ]
  },
  {
   "cell_type": "markdown",
   "metadata": {
    "id": "pYG-6q3rfJCa"
   },
   "source": [
    "4) 가변수화 필요 여부"
   ]
  },
  {
   "cell_type": "markdown",
   "metadata": {
    "id": "v4bwub65fJCa"
   },
   "source": [
    "> * 숫자형이기 때문에 필요없음"
   ]
  },
  {
   "cell_type": "markdown",
   "metadata": {
    "id": "H9_8VoENfJCa"
   },
   "source": [
    "5) 기초통계량(수치화)"
   ]
  },
  {
   "cell_type": "code",
   "execution_count": 66,
   "metadata": {
    "id": "DJpEltSbfJCa"
   },
   "outputs": [
    {
     "data": {
      "text/plain": [
       "count    400.000000\n",
       "mean       7.496325\n",
       "std        2.824115\n",
       "min        0.000000\n",
       "25%        5.390000\n",
       "50%        7.490000\n",
       "75%        9.320000\n",
       "max       16.270000\n",
       "Name: Sales, dtype: float64"
      ]
     },
     "execution_count": 66,
     "metadata": {},
     "output_type": "execute_result"
    }
   ],
   "source": [
    "data[var].describe()"
   ]
  },
  {
   "cell_type": "markdown",
   "metadata": {
    "id": "2mgIyJ3vfJCa"
   },
   "source": [
    "6) 분포 확인(시각화)"
   ]
  },
  {
   "cell_type": "code",
   "execution_count": 88,
   "metadata": {
    "id": "8Nnz494-fJCa"
   },
   "outputs": [
    {
     "data": {
      "image/png": "[encoded data removed]",
      "text/plain": [
       "<Figure size 576x576 with 4 Axes>"
      ]
     },
     "metadata": {
      "needs_background": "light"
     },
     "output_type": "display_data"
    }
   ],
   "source": [
    "import warnings   \n",
    "warnings.filterwarnings(\"ignore\")\n",
    "\n",
    "mean = data[var].mean()\n",
    "\n",
    "plt.figure(figsize = (8,8))\n",
    "plt.subplot(2,2,1)\n",
    "sns.histplot(data[var], bins = 10)\n",
    "plt.axvline(mean, color='red', linestyle='-')\n",
    "plt.text(mean + 0.5 , 60, mean, color='r')\n",
    "plt.title('bins 10')\n",
    "\n",
    "plt.subplot(2,2,2)\n",
    "data[var].plot(kind = 'kde')\n",
    "plt.axvline(mean, color='red', linestyle='-')\n",
    "plt.text(mean + 0.5, 0.08, mean, color='r')\n",
    "\n",
    "plt.subplot(2,2,3)\n",
    "sns.histplot(data[var], bins = 20)\n",
    "plt.axvline(mean, color='red', linestyle='-')\n",
    "plt.text(mean + 0.5, 30, mean, color='r')\n",
    "plt.title('bins 20')\n",
    "\n",
    "plt.subplot(2,2,4)\n",
    "sns.boxplot(data[var])\n",
    "plt.axvline(mean, color='red', linestyle='-')\n",
    "\n",
    "plt.tight_layout()\n",
    "plt.show()"
   ]
  },
  {
   "cell_type": "markdown",
   "metadata": {
    "id": "s2MLcqE0fJCa"
   },
   "source": [
    "7) 기초통계량과 분포를 통해서 파악한 내용을 적어 봅시다.\n",
    "\n",
    "보이는 그대로를 넘어, 비즈니스 관점에서 고민하며 적어 봅시다."
   ]
  },
  {
   "cell_type": "markdown",
   "metadata": {
    "id": "6y_ksZO6fJCb"
   },
   "source": [
    "> * 대부분(50% 이상)이 5,000 ~ 10,000개의 판매량을 보였다.\n",
    "    * 지역마다의 구매력이 비슷하다고 유추해볼 수 있다."
   ]
  },
  {
   "cell_type": "markdown",
   "metadata": {
    "id": "hr8edCgEfJCb"
   },
   "source": [
    "8) 추가 분석해 볼 사항이 있나요?"
   ]
  },
  {
   "cell_type": "markdown",
   "metadata": {
    "id": "X6WHDsGofJCb"
   },
   "source": [
    "> * 구간을 나눠서 판매량을 비교해볼 필요가 있다.\n",
    "> * price(자사 지역별 판매가격)와 같이 분석해볼 필요가 있다."
   ]
  },
  {
   "cell_type": "markdown",
   "metadata": {
    "id": "9WGX3Pm8g8HV"
   },
   "source": [
    "### ② CompPrice"
   ]
  },
  {
   "cell_type": "code",
   "execution_count": 91,
   "metadata": {
    "id": "aJoANd-Gg8HW"
   },
   "outputs": [],
   "source": [
    "var = 'CompPrice'"
   ]
  },
  {
   "cell_type": "markdown",
   "metadata": {
    "id": "dNdMX51gg8HW"
   },
   "source": [
    "1) 변수의 비즈니스 의미"
   ]
  },
  {
   "cell_type": "markdown",
   "metadata": {
    "id": "uGVxKVeEg8HW"
   },
   "source": [
    "* 경쟁사 가격(단위 : 달러)"
   ]
  },
  {
   "cell_type": "markdown",
   "metadata": {
    "id": "ppihA1T2g8HW"
   },
   "source": [
    "2) 숫자, 범주?"
   ]
  },
  {
   "cell_type": "markdown",
   "metadata": {
    "id": "0c1zhjeEg8HW"
   },
   "source": [
    "* 숫자"
   ]
  },
  {
   "cell_type": "markdown",
   "metadata": {
    "id": "u2FDNkm-g8HW"
   },
   "source": [
    "3) NaN 존재 유무 및 조치방안"
   ]
  },
  {
   "cell_type": "code",
   "execution_count": 92,
   "metadata": {
    "id": "DQilt318g8HW"
   },
   "outputs": [
    {
     "data": {
      "text/plain": [
       "0"
      ]
     },
     "execution_count": 92,
     "metadata": {},
     "output_type": "execute_result"
    }
   ],
   "source": [
    "data[var].isna().sum()"
   ]
  },
  {
   "cell_type": "markdown",
   "metadata": {},
   "source": [
    "* NaN 존재하지 않음"
   ]
  },
  {
   "cell_type": "markdown",
   "metadata": {
    "id": "moLEhR-ng8HW"
   },
   "source": [
    "4) 가변수화 필요 여부"
   ]
  },
  {
   "cell_type": "markdown",
   "metadata": {
    "id": "9ZLMPb37g8HW"
   },
   "source": [
    "* 필요없음"
   ]
  },
  {
   "cell_type": "markdown",
   "metadata": {
    "id": "YYUSlGqJg8HX"
   },
   "source": [
    "5) 기초통계량(수치화)"
   ]
  },
  {
   "cell_type": "code",
   "execution_count": 93,
   "metadata": {
    "id": "2Ne107Rmg8HX"
   },
   "outputs": [
    {
     "data": {
      "text/plain": [
       "count    400.000000\n",
       "mean     124.975000\n",
       "std       15.334512\n",
       "min       77.000000\n",
       "25%      115.000000\n",
       "50%      125.000000\n",
       "75%      135.000000\n",
       "max      175.000000\n",
       "Name: CompPrice, dtype: float64"
      ]
     },
     "execution_count": 93,
     "metadata": {},
     "output_type": "execute_result"
    }
   ],
   "source": [
    "data[var].describe()"
   ]
  },
  {
   "cell_type": "markdown",
   "metadata": {
    "id": "hdb2iGBRg8HX"
   },
   "source": [
    "6) 분포 확인(시각화)"
   ]
  },
  {
   "cell_type": "code",
   "execution_count": 98,
   "metadata": {
    "id": "_u_W-AYkg8HX"
   },
   "outputs": [
    {
     "data": {
      "image/png": "[encoded data removed]",
      "text/plain": [
       "<Figure size 576x576 with 4 Axes>"
      ]
     },
     "metadata": {
      "needs_background": "light"
     },
     "output_type": "display_data"
    }
   ],
   "source": [
    "warnings.filterwarnings(\"ignore\")\n",
    "\n",
    "mean = data[var].mean()\n",
    "\n",
    "plt.figure(figsize = (8,8))\n",
    "plt.subplot(2,2,1)\n",
    "sns.histplot(data[var], bins = 10)\n",
    "plt.axvline(mean, color='red', linestyle='-')\n",
    "plt.text(mean + 0.5 , 50, mean, color='r')\n",
    "plt.title('bins 10')\n",
    "\n",
    "plt.subplot(2,2,2)\n",
    "data[var].plot(kind = 'kde')\n",
    "plt.axvline(mean, color='red', linestyle='-')\n",
    "plt.text(mean + 0.5, 0.015, mean, color='r')\n",
    "\n",
    "plt.subplot(2,2,3)\n",
    "sns.histplot(data[var], bins = 20)\n",
    "plt.axvline(mean, color='red', linestyle='-')\n",
    "plt.text(mean + 0.5, 30, mean, color='r')\n",
    "plt.title('bins 20')\n",
    "\n",
    "plt.subplot(2,2,4)\n",
    "sns.boxplot(data[var])\n",
    "plt.axvline(mean, color='red', linestyle='-')\n",
    "\n",
    "plt.tight_layout()\n",
    "plt.show()"
   ]
  },
  {
   "cell_type": "markdown",
   "metadata": {
    "id": "wx353mmZg8HX"
   },
   "source": [
    "7) 기초통계량과 분포를 통해서 파악한 내용을 적어 봅시다.\n",
    "\n",
    "보이는 그대로를 넘어, 비즈니스 관점에서 고민하며 적어 봅시다."
   ]
  },
  {
   "cell_type": "markdown",
   "metadata": {
    "id": "bqvUNLh5g8HX"
   },
   "source": [
    "> * 경쟁사의 가격은 77~175불 사이이다.\n",
    "> * 경쟁사의 가격은 대부분 110~140불임을 확인할 수 있다.\n",
    "    * 이외의 구간에 있는 가격들에 대해서 원인을 알아볼 필요가 있다."
   ]
  },
  {
   "cell_type": "markdown",
   "metadata": {
    "id": "vlhNsPplg8HX"
   },
   "source": [
    "8) 추가 분석해 볼 사항이 있나요?"
   ]
  },
  {
   "cell_type": "markdown",
   "metadata": {
    "id": "zed_CITmg8HX"
   },
   "source": [
    "> * 가격 차이가 제품의 차이인지 지역별 할인 차이인지 추가 분석해볼 필요가 있다.\n",
    "> * 자사 지역별 판매가격과 같이 비교해볼 필요가 있다."
   ]
  },
  {
   "cell_type": "markdown",
   "metadata": {
    "id": "CPQ4kqneg8SS"
   },
   "source": [
    "### ③ Income"
   ]
  },
  {
   "cell_type": "code",
   "execution_count": 101,
   "metadata": {
    "id": "apBbmS_gg8SS"
   },
   "outputs": [],
   "source": [
    "var = 'Income'"
   ]
  },
  {
   "cell_type": "markdown",
   "metadata": {
    "id": "L5fm0Sbvg8SS"
   },
   "source": [
    "1) 변수의 비즈니스 의미"
   ]
  },
  {
   "cell_type": "markdown",
   "metadata": {
    "id": "iPbPsXVDg8SS"
   },
   "source": [
    "* 지역 평균 소득(단위 : 1000달러)"
   ]
  },
  {
   "cell_type": "markdown",
   "metadata": {
    "id": "Rs0N8bWAg8SS"
   },
   "source": [
    "2) 숫자, 범주?"
   ]
  },
  {
   "cell_type": "markdown",
   "metadata": {
    "id": "rG_VYntzg8SS"
   },
   "source": [
    "* 숫자"
   ]
  },
  {
   "cell_type": "markdown",
   "metadata": {
    "id": "RSToMWpcg8ST"
   },
   "source": [
    "3) NaN 존재 유무 및 조치방안"
   ]
  },
  {
   "cell_type": "code",
   "execution_count": 102,
   "metadata": {
    "id": "SkTQK-79g8ST"
   },
   "outputs": [
    {
     "data": {
      "text/plain": [
       "0"
      ]
     },
     "execution_count": 102,
     "metadata": {},
     "output_type": "execute_result"
    }
   ],
   "source": [
    "data[var].isna().sum()"
   ]
  },
  {
   "cell_type": "markdown",
   "metadata": {},
   "source": [
    "* NaN 존재하지 않음"
   ]
  },
  {
   "cell_type": "markdown",
   "metadata": {
    "id": "C8RADJA-g8ST"
   },
   "source": [
    "4) 가변수화 필요 여부"
   ]
  },
  {
   "cell_type": "markdown",
   "metadata": {
    "id": "tzE4o5jEg8ST"
   },
   "source": [
    "* 필요없음"
   ]
  },
  {
   "cell_type": "markdown",
   "metadata": {
    "id": "uRhhSVjDg8ST"
   },
   "source": [
    "5) 기초통계량(수치화)"
   ]
  },
  {
   "cell_type": "code",
   "execution_count": 103,
   "metadata": {
    "id": "L0VjCTuBg8ST"
   },
   "outputs": [
    {
     "data": {
      "text/plain": [
       "count    400.000000\n",
       "mean      68.657500\n",
       "std       27.986037\n",
       "min       21.000000\n",
       "25%       42.750000\n",
       "50%       69.000000\n",
       "75%       91.000000\n",
       "max      120.000000\n",
       "Name: Income, dtype: float64"
      ]
     },
     "execution_count": 103,
     "metadata": {},
     "output_type": "execute_result"
    }
   ],
   "source": [
    "data[var].describe()"
   ]
  },
  {
   "cell_type": "markdown",
   "metadata": {
    "id": "f14ITqvkg8ST"
   },
   "source": [
    "6) 분포 확인(시각화)"
   ]
  },
  {
   "cell_type": "code",
   "execution_count": 105,
   "metadata": {
    "id": "hh3v-EAdg8ST"
   },
   "outputs": [
    {
     "data": {
      "image/png": "[encoded data removed]",
      "text/plain": [
       "<Figure size 576x576 with 4 Axes>"
      ]
     },
     "metadata": {
      "needs_background": "light"
     },
     "output_type": "display_data"
    }
   ],
   "source": [
    "warnings.filterwarnings(\"ignore\")\n",
    "\n",
    "mean = data[var].mean()\n",
    "\n",
    "plt.figure(figsize = (8,8))\n",
    "plt.subplot(2,2,1)\n",
    "sns.histplot(data[var], bins = 10)\n",
    "plt.axvline(mean, color='red', linestyle='-')\n",
    "plt.text(mean + 0.5, 25, mean, color='r')\n",
    "plt.title('bins 10')\n",
    "\n",
    "plt.subplot(2,2,2)\n",
    "data[var].plot(kind = 'kde')\n",
    "plt.axvline(mean, color='red', linestyle='-')\n",
    "plt.text(mean + 0.5, 0.006, mean, color='r')\n",
    "\n",
    "plt.subplot(2,2,3)\n",
    "sns.histplot(data[var], bins = 20)\n",
    "plt.axvline(mean, color='red', linestyle='-')\n",
    "plt.text(mean + 0.5, 15, mean, color='r')\n",
    "plt.title('bins 20')\n",
    "\n",
    "plt.subplot(2,2,4)\n",
    "sns.boxplot(data[var])\n",
    "plt.axvline(mean, color='red', linestyle='-')\n",
    "\n",
    "plt.tight_layout()\n",
    "plt.show()"
   ]
  },
  {
   "cell_type": "markdown",
   "metadata": {
    "id": "pC8Hhurag8ST"
   },
   "source": [
    "7) 기초통계량과 분포를 통해서 파악한 내용을 적어 봅시다.\n",
    "\n",
    "보이는 그대로를 넘어, 비즈니스 관점에서 고민하며 적어 봅시다."
   ]
  },
  {
   "cell_type": "markdown",
   "metadata": {
    "id": "qjjP_UpMg8ST"
   },
   "source": [
    "> * 지역별 평균소득은 21,000 ~ 120,000불 사이이다.\n",
    "    * 따라서 연평균 소득일 것이다.\n",
    "> * 대부분이 약 40,000 ~ 90,000불 사이이다.\n",
    "> * 누구의 연평균 소득인지 알아볼 필요가 있다.\n",
    "    * 신혼부부 대상인지 등에 대해 알아볼 필요가 있다."
   ]
  },
  {
   "cell_type": "markdown",
   "metadata": {
    "id": "8XzrJN_0g8ST"
   },
   "source": [
    "8) 추가 분석해 볼 사항이 있나요?"
   ]
  },
  {
   "cell_type": "markdown",
   "metadata": {
    "id": "nnlyypz_g8ST"
   },
   "source": [
    "> * 연평균 소득의 대상과 카시트 간의 상관관계를 분석해볼 필요가 있다."
   ]
  },
  {
   "cell_type": "markdown",
   "metadata": {
    "id": "oGaBjzSYg8ch"
   },
   "source": [
    "### ④ Advertising"
   ]
  },
  {
   "cell_type": "code",
   "execution_count": 106,
   "metadata": {
    "id": "Ab8ZZZsNg8ch"
   },
   "outputs": [],
   "source": [
    "var = 'Advertising'"
   ]
  },
  {
   "cell_type": "markdown",
   "metadata": {
    "id": "25o03_xkg8ci"
   },
   "source": [
    "1) 변수의 비즈니스 의미"
   ]
  },
  {
   "cell_type": "markdown",
   "metadata": {
    "id": "D-kLNRJ_g8ci"
   },
   "source": [
    "* 각 지역, 회사의 광고 예산(단위 : 1000달러)"
   ]
  },
  {
   "cell_type": "markdown",
   "metadata": {
    "id": "ZO9JHxzRg8ci"
   },
   "source": [
    "2) 숫자, 범주?"
   ]
  },
  {
   "cell_type": "markdown",
   "metadata": {
    "id": "n4qePJSlg8ci"
   },
   "source": [
    "* 숫자"
   ]
  },
  {
   "cell_type": "markdown",
   "metadata": {
    "id": "AcxvPe-Og8ci"
   },
   "source": [
    "3) NaN 존재 유무 및 조치방안"
   ]
  },
  {
   "cell_type": "code",
   "execution_count": 107,
   "metadata": {
    "id": "RU4VtFJSg8ci"
   },
   "outputs": [
    {
     "data": {
      "text/plain": [
       "0"
      ]
     },
     "execution_count": 107,
     "metadata": {},
     "output_type": "execute_result"
    }
   ],
   "source": [
    "data[var].isna().sum()"
   ]
  },
  {
   "cell_type": "markdown",
   "metadata": {},
   "source": [
    "* NaN 존재하지 않음"
   ]
  },
  {
   "cell_type": "markdown",
   "metadata": {
    "id": "GcVv9H_Cg8ci"
   },
   "source": [
    "4) 가변수화 필요 여부"
   ]
  },
  {
   "cell_type": "markdown",
   "metadata": {
    "id": "fRGaF70cg8ci"
   },
   "source": [
    "* 필요없음"
   ]
  },
  {
   "cell_type": "markdown",
   "metadata": {
    "id": "jER-x8F2g8cj"
   },
   "source": [
    "5) 기초통계량(수치화)"
   ]
  },
  {
   "cell_type": "code",
   "execution_count": 108,
   "metadata": {
    "id": "-1vbjr3Sg8cj"
   },
   "outputs": [
    {
     "data": {
      "text/plain": [
       "count    400.000000\n",
       "mean       6.635000\n",
       "std        6.650364\n",
       "min        0.000000\n",
       "25%        0.000000\n",
       "50%        5.000000\n",
       "75%       12.000000\n",
       "max       29.000000\n",
       "Name: Advertising, dtype: float64"
      ]
     },
     "execution_count": 108,
     "metadata": {},
     "output_type": "execute_result"
    }
   ],
   "source": [
    "data[var].describe()"
   ]
  },
  {
   "cell_type": "markdown",
   "metadata": {
    "id": "33VRz7npg8cj"
   },
   "source": [
    "6) 분포 확인(시각화)"
   ]
  },
  {
   "cell_type": "code",
   "execution_count": 110,
   "metadata": {
    "id": "cy7xftyig8cj"
   },
   "outputs": [
    {
     "data": {
      "image/png": "[encoded data removed]",
      "text/plain": [
       "<Figure size 576x576 with 4 Axes>"
      ]
     },
     "metadata": {
      "needs_background": "light"
     },
     "output_type": "display_data"
    }
   ],
   "source": [
    "warnings.filterwarnings(\"ignore\")\n",
    "\n",
    "mean = data[var].mean()\n",
    "\n",
    "plt.figure(figsize = (8,8))\n",
    "plt.subplot(2,2,1)\n",
    "sns.histplot(data[var], bins = 10)\n",
    "plt.axvline(mean, color='red', linestyle='-')\n",
    "plt.text(mean + 0.5, 100, mean, color='r')\n",
    "plt.title('bins 10')\n",
    "\n",
    "plt.subplot(2,2,2)\n",
    "data[var].plot(kind = 'kde')\n",
    "plt.axvline(mean, color='red', linestyle='-')\n",
    "plt.text(mean + 0.5, 0.06, mean, color='r')\n",
    "\n",
    "plt.subplot(2,2,3)\n",
    "sns.histplot(data[var], bins = 20)\n",
    "plt.axvline(mean, color='red', linestyle='-')\n",
    "plt.text(mean + 0.5, 100, mean, color='r')\n",
    "plt.title('bins 20')\n",
    "\n",
    "plt.subplot(2,2,4)\n",
    "sns.boxplot(data[var])\n",
    "plt.axvline(mean, color='red', linestyle='-')\n",
    "\n",
    "plt.tight_layout()\n",
    "plt.show()"
   ]
  },
  {
   "cell_type": "markdown",
   "metadata": {
    "id": "D0t41lFTg8cj"
   },
   "source": [
    "7) 기초통계량과 분포를 통해서 파악한 내용을 적어 봅시다.\n",
    "\n",
    "보이는 그대로를 넘어, 비즈니스 관점에서 고민하며 적어 봅시다."
   ]
  },
  {
   "cell_type": "markdown",
   "metadata": {
    "id": "1RbooC0cg8cj"
   },
   "source": [
    "> * 회사의 광고 예산이 0불인 지역들(최소 25%)이 있다.\n",
    "    * 이들과 29,000불인 지역에 대해서 분석해볼 필요가 있다.\n",
    "> * 대부분(50% 이상)의 지역에서 회사 광고 예산이 평균보다 적다.\n",
    "    * 평균보다 더 예산을 투입하는 지역들에 대해서 알아볼 필요가 있다."
   ]
  },
  {
   "cell_type": "markdown",
   "metadata": {
    "id": "1ALjv429g8cj"
   },
   "source": [
    "8) 추가 분석해 볼 사항이 있나요?"
   ]
  },
  {
   "cell_type": "markdown",
   "metadata": {
    "id": "d6CeEwuZg8cj"
   },
   "source": [
    "> * 광고 예산이 0불인 지역을 제외하고 분포를 살펴볼 필요가 있다.\n",
    "> * 지역별 인구수, 광고 타겟층, 평균소득 등과 비교해볼 필요가 있다."
   ]
  },
  {
   "cell_type": "markdown",
   "metadata": {
    "id": "Pf9iFSXpg8mZ"
   },
   "source": [
    "### ⑤ Population"
   ]
  },
  {
   "cell_type": "code",
   "execution_count": 112,
   "metadata": {
    "id": "Y00t93C-g8mZ"
   },
   "outputs": [],
   "source": [
    "var = 'Population'"
   ]
  },
  {
   "cell_type": "markdown",
   "metadata": {
    "id": "LykFGDb6g8mZ"
   },
   "source": [
    "1) 변수의 비즈니스 의미"
   ]
  },
  {
   "cell_type": "markdown",
   "metadata": {
    "id": "WI28ZJpzg8mZ"
   },
   "source": [
    "* 지역 인구수(단위 : 1000명)"
   ]
  },
  {
   "cell_type": "markdown",
   "metadata": {
    "id": "-u074NL4g8ma"
   },
   "source": [
    "2) 숫자, 범주?"
   ]
  },
  {
   "cell_type": "markdown",
   "metadata": {
    "id": "x2FWVpOHg8ma"
   },
   "source": [
    "* 숫자"
   ]
  },
  {
   "cell_type": "markdown",
   "metadata": {
    "id": "qccdnuYUg8ma"
   },
   "source": [
    "3) NaN 존재 유무 및 조치방안"
   ]
  },
  {
   "cell_type": "code",
   "execution_count": 113,
   "metadata": {
    "id": "m_wIuVIlg8ma"
   },
   "outputs": [
    {
     "data": {
      "text/plain": [
       "0"
      ]
     },
     "execution_count": 113,
     "metadata": {},
     "output_type": "execute_result"
    }
   ],
   "source": [
    "data[var].isna().sum()"
   ]
  },
  {
   "cell_type": "markdown",
   "metadata": {},
   "source": [
    "* NaN 존재하지 않음"
   ]
  },
  {
   "cell_type": "markdown",
   "metadata": {
    "id": "oOWxt60gg8ma"
   },
   "source": [
    "4) 가변수화 필요 여부"
   ]
  },
  {
   "cell_type": "markdown",
   "metadata": {
    "id": "78Oa5aAZg8ma"
   },
   "source": [
    "* 필요없음"
   ]
  },
  {
   "cell_type": "markdown",
   "metadata": {
    "id": "1rKqaZXLg8ma"
   },
   "source": [
    "5) 기초통계량(수치화)"
   ]
  },
  {
   "cell_type": "code",
   "execution_count": 114,
   "metadata": {
    "id": "GrBmWL4jg8ma"
   },
   "outputs": [
    {
     "data": {
      "text/plain": [
       "count    400.000000\n",
       "mean     264.840000\n",
       "std      147.376436\n",
       "min       10.000000\n",
       "25%      139.000000\n",
       "50%      272.000000\n",
       "75%      398.500000\n",
       "max      509.000000\n",
       "Name: Population, dtype: float64"
      ]
     },
     "execution_count": 114,
     "metadata": {},
     "output_type": "execute_result"
    }
   ],
   "source": [
    "data[var].describe()"
   ]
  },
  {
   "cell_type": "markdown",
   "metadata": {
    "id": "zovDrpUyg8ma"
   },
   "source": [
    "6) 분포 확인(시각화)"
   ]
  },
  {
   "cell_type": "code",
   "execution_count": 116,
   "metadata": {
    "id": "YWfV9Jvig8ma"
   },
   "outputs": [
    {
     "data": {
      "image/png": "[encoded data removed]",
      "text/plain": [
       "<Figure size 576x576 with 4 Axes>"
      ]
     },
     "metadata": {
      "needs_background": "light"
     },
     "output_type": "display_data"
    }
   ],
   "source": [
    "warnings.filterwarnings(\"ignore\")\n",
    "\n",
    "mean = data[var].mean()\n",
    "\n",
    "plt.figure(figsize = (8,8))\n",
    "plt.subplot(2,2,1)\n",
    "sns.histplot(data[var], bins = 10)\n",
    "plt.axvline(mean, color='red', linestyle='-')\n",
    "plt.text(mean + 0.5, 25, mean, color='r')\n",
    "plt.title('bins 10')\n",
    "\n",
    "plt.subplot(2,2,2)\n",
    "data[var].plot(kind = 'kde')\n",
    "plt.axvline(mean, color='red', linestyle='-')\n",
    "plt.text(mean + 0.5, 0.001, mean, color='r')\n",
    "\n",
    "plt.subplot(2,2,3)\n",
    "sns.histplot(data[var], bins = 20)\n",
    "plt.axvline(mean, color='red', linestyle='-')\n",
    "plt.text(mean + 0.5, 10, mean, color='r')\n",
    "plt.title('bins 20')\n",
    "\n",
    "plt.subplot(2,2,4)\n",
    "sns.boxplot(data[var])\n",
    "plt.axvline(mean, color='red', linestyle='-')\n",
    "\n",
    "plt.tight_layout()\n",
    "plt.show()"
   ]
  },
  {
   "cell_type": "markdown",
   "metadata": {
    "id": "uko6RMgqg8ma"
   },
   "source": [
    "7) 기초통계량과 분포를 통해서 파악한 내용을 적어 봅시다.\n",
    "\n",
    "보이는 그대로를 넘어, 비즈니스 관점에서 고민하며 적어 봅시다."
   ]
  },
  {
   "cell_type": "markdown",
   "metadata": {
    "id": "VrPyXAENg8mb"
   },
   "source": [
    "> * 가장 적은 지역은 10,000명, 가장 많은 지역은 509,000명이다.\n",
    "> * 대부분의 지역에 약 140,000~400,000명이 거주하고 있다."
   ]
  },
  {
   "cell_type": "markdown",
   "metadata": {
    "id": "PZXo7mpeg8mb"
   },
   "source": [
    "8) 추가 분석해 볼 사항이 있나요?"
   ]
  },
  {
   "cell_type": "markdown",
   "metadata": {
    "id": "cHV8V-Fvg8mb"
   },
   "source": [
    "> * 연령대를 알아볼 필요가 있다.\n",
    "    * 결혼여부를 알아볼 필요가 있다.\n",
    "> * 회사 광고예산과 비교해볼 필요가 있다."
   ]
  },
  {
   "cell_type": "markdown",
   "metadata": {
    "id": "-MNN7Zplg8wC"
   },
   "source": [
    "### ⑥ Price"
   ]
  },
  {
   "cell_type": "code",
   "execution_count": 117,
   "metadata": {
    "id": "kz0TjZxag8wC"
   },
   "outputs": [],
   "source": [
    "var = 'Price'"
   ]
  },
  {
   "cell_type": "markdown",
   "metadata": {
    "id": "dPmnnDrTg8wC"
   },
   "source": [
    "1) 변수의 비즈니스 의미"
   ]
  },
  {
   "cell_type": "markdown",
   "metadata": {
    "id": "ilID_DSSg8wC"
   },
   "source": [
    "* 자사 지역별 판매가격"
   ]
  },
  {
   "cell_type": "markdown",
   "metadata": {
    "id": "GVNdlKwTg8wC"
   },
   "source": [
    "2) 숫자, 범주?"
   ]
  },
  {
   "cell_type": "markdown",
   "metadata": {
    "id": "9aCnSVSrg8wC"
   },
   "source": [
    "* 숫자"
   ]
  },
  {
   "cell_type": "markdown",
   "metadata": {
    "id": "6LJrEfxjg8wC"
   },
   "source": [
    "3) NaN 존재 유무 및 조치방안"
   ]
  },
  {
   "cell_type": "code",
   "execution_count": 118,
   "metadata": {
    "id": "BBRhoDHEg8wC"
   },
   "outputs": [
    {
     "data": {
      "text/plain": [
       "0"
      ]
     },
     "execution_count": 118,
     "metadata": {},
     "output_type": "execute_result"
    }
   ],
   "source": [
    "data[var].isna().sum()"
   ]
  },
  {
   "cell_type": "markdown",
   "metadata": {},
   "source": [
    "* NaN 존재하지 않음"
   ]
  },
  {
   "cell_type": "markdown",
   "metadata": {
    "id": "nj5u-bTag8wC"
   },
   "source": [
    "4) 가변수화 필요 여부"
   ]
  },
  {
   "cell_type": "markdown",
   "metadata": {
    "id": "aMLQxYaUg8wC"
   },
   "source": [
    "* 필요없음"
   ]
  },
  {
   "cell_type": "markdown",
   "metadata": {
    "id": "40u6vHYNg8wD"
   },
   "source": [
    "5) 기초통계량(수치화)"
   ]
  },
  {
   "cell_type": "code",
   "execution_count": 119,
   "metadata": {
    "id": "pzl8eupng8wD"
   },
   "outputs": [
    {
     "data": {
      "text/plain": [
       "count    400.000000\n",
       "mean     115.795000\n",
       "std       23.676664\n",
       "min       24.000000\n",
       "25%      100.000000\n",
       "50%      117.000000\n",
       "75%      131.000000\n",
       "max      191.000000\n",
       "Name: Price, dtype: float64"
      ]
     },
     "execution_count": 119,
     "metadata": {},
     "output_type": "execute_result"
    }
   ],
   "source": [
    "data[var].describe()"
   ]
  },
  {
   "cell_type": "markdown",
   "metadata": {
    "id": "S5ErW3v7g8wD"
   },
   "source": [
    "6) 분포 확인(시각화)"
   ]
  },
  {
   "cell_type": "code",
   "execution_count": 121,
   "metadata": {
    "id": "UfE0p7Uhg8wD"
   },
   "outputs": [
    {
     "data": {
      "image/png": "[encoded data removed]",
      "text/plain": [
       "<Figure size 576x576 with 4 Axes>"
      ]
     },
     "metadata": {
      "needs_background": "light"
     },
     "output_type": "display_data"
    }
   ],
   "source": [
    "warnings.filterwarnings(\"ignore\")\n",
    "\n",
    "mean = data[var].mean()\n",
    "\n",
    "plt.figure(figsize = (8,8))\n",
    "plt.subplot(2,2,1)\n",
    "sns.histplot(data[var], bins = 10)\n",
    "plt.axvline(mean, color='red', linestyle='-')\n",
    "plt.text(mean + 0.5, 60, mean, color='r')\n",
    "plt.title('bins 10')\n",
    "\n",
    "plt.subplot(2,2,2)\n",
    "data[var].plot(kind = 'kde')\n",
    "plt.axvline(mean, color='red', linestyle='-')\n",
    "plt.text(mean + 0.5, 0.01, mean, color='r')\n",
    "\n",
    "plt.subplot(2,2,3)\n",
    "sns.histplot(data[var], bins = 20)\n",
    "plt.axvline(mean, color='red', linestyle='-')\n",
    "plt.text(mean + 0.5, 30, mean, color='r')\n",
    "plt.title('bins 20')\n",
    "\n",
    "plt.subplot(2,2,4)\n",
    "sns.boxplot(data[var])\n",
    "plt.axvline(mean, color='red', linestyle='-')\n",
    "\n",
    "plt.tight_layout()\n",
    "plt.show()"
   ]
  },
  {
   "cell_type": "markdown",
   "metadata": {
    "id": "PakQk8JHg8wD"
   },
   "source": [
    "7) 기초통계량과 분포를 통해서 파악한 내용을 적어 봅시다.\n",
    "\n",
    "보이는 그대로를 넘어, 비즈니스 관점에서 고민하며 적어 봅시다."
   ]
  },
  {
   "cell_type": "markdown",
   "metadata": {
    "id": "vKXwIhrXg8wD"
   },
   "source": [
    "> * 대부분(약 50%) 지역에서 100~130불에 팔고 있다.\n",
    "> * 가장 싼 지역에서는 24불, 가장 비싼 지역에서는 191불이다.\n",
    "    * 지역별로 가격차이가 왜 이렇게 나는지 알아볼 필요가 있다.\n",
    "        * 제품의 종류 차이인지, 지역별 할인을 다르게 한 것인지 등\n",
    "> * 경쟁사의 경우 77~175불 사이에서 팔고 있다.\n",
    "    * 경쟁사보다 가격대가 다양한 이유에 대해 알아볼 필요가 있다."
   ]
  },
  {
   "cell_type": "markdown",
   "metadata": {
    "id": "SRGAiRvRg8wD"
   },
   "source": [
    "8) 추가 분석해 볼 사항이 있나요?"
   ]
  },
  {
   "cell_type": "markdown",
   "metadata": {
    "id": "fSuRyOAkg8wD"
   },
   "source": [
    "> * 지역별 광고예산, 평균소득 등과 비교해볼 필요가 있다.\n",
    "> * 같은 지역에서 경쟁사 가격과 비교해볼 필요가 있다."
   ]
  },
  {
   "cell_type": "markdown",
   "metadata": {
    "id": "m5zcg9CCg86m"
   },
   "source": [
    "### ⑦ ShelveLoc"
   ]
  },
  {
   "cell_type": "code",
   "execution_count": 153,
   "metadata": {
    "id": "fzfJAos6g86m"
   },
   "outputs": [],
   "source": [
    "var = 'ShelveLoc'"
   ]
  },
  {
   "cell_type": "markdown",
   "metadata": {
    "id": "dJBrJUmGg86n"
   },
   "source": [
    "1) 변수의 비즈니스 의미"
   ]
  },
  {
   "cell_type": "markdown",
   "metadata": {
    "id": "3gtWFDYqg86n"
   },
   "source": [
    "* 매장 진열상태"
   ]
  },
  {
   "cell_type": "markdown",
   "metadata": {
    "id": "m1svuzVXg86n"
   },
   "source": [
    "2) 숫자, 범주?"
   ]
  },
  {
   "cell_type": "markdown",
   "metadata": {
    "id": "qYqLLkCPg86n"
   },
   "source": [
    "* 범주"
   ]
  },
  {
   "cell_type": "markdown",
   "metadata": {
    "id": "3jdBy-nsg86n"
   },
   "source": [
    "3) NaN 존재 유무 및 조치방안"
   ]
  },
  {
   "cell_type": "code",
   "execution_count": 154,
   "metadata": {
    "id": "R6sOS918g86n"
   },
   "outputs": [
    {
     "data": {
      "text/plain": [
       "0"
      ]
     },
     "execution_count": 154,
     "metadata": {},
     "output_type": "execute_result"
    }
   ],
   "source": [
    "data[var].isna().sum()"
   ]
  },
  {
   "cell_type": "markdown",
   "metadata": {},
   "source": [
    "* NaN 존재하지 않음"
   ]
  },
  {
   "cell_type": "markdown",
   "metadata": {
    "id": "J7LX6lUsg86n"
   },
   "source": [
    "4) 가변수화 필요 여부"
   ]
  },
  {
   "cell_type": "code",
   "execution_count": 155,
   "metadata": {
    "id": "AIlEVEg6g86n"
   },
   "outputs": [
    {
     "data": {
      "text/plain": [
       "array(['Bad', 'Good', 'Medium'], dtype=object)"
      ]
     },
     "execution_count": 155,
     "metadata": {},
     "output_type": "execute_result"
    }
   ],
   "source": [
    "data[var].unique()"
   ]
  },
  {
   "cell_type": "markdown",
   "metadata": {},
   "source": [
    "* 가변수화 필요"
   ]
  },
  {
   "cell_type": "markdown",
   "metadata": {
    "id": "oBh8J1tDg86n"
   },
   "source": [
    "5) 기초통계량(수치화)"
   ]
  },
  {
   "cell_type": "code",
   "execution_count": 156,
   "metadata": {
    "id": "dED5nK77g86n"
   },
   "outputs": [
    {
     "data": {
      "text/plain": [
       "Medium    219\n",
       "Bad        96\n",
       "Good       85\n",
       "Name: ShelveLoc, dtype: int64"
      ]
     },
     "execution_count": 156,
     "metadata": {},
     "output_type": "execute_result"
    }
   ],
   "source": [
    "data[var].value_counts()"
   ]
  },
  {
   "cell_type": "markdown",
   "metadata": {
    "id": "bNLC1NHRg86n"
   },
   "source": [
    "6) 분포 확인(시각화)"
   ]
  },
  {
   "cell_type": "code",
   "execution_count": 157,
   "metadata": {
    "id": "MVney2yog86n"
   },
   "outputs": [
    {
     "data": {
      "image/png": "[encoded data removed]",
      "text/plain": [
       "<Figure size 576x288 with 2 Axes>"
      ]
     },
     "metadata": {
      "needs_background": "light"
     },
     "output_type": "display_data"
    }
   ],
   "source": [
    "cnt = data[var].value_counts()  # 집계를 먼저 해야한다.\n",
    "\n",
    "plt.figure(figsize = (8,4))\n",
    "\n",
    "plt.subplot(1, 2, 1)\n",
    "plt.barh(cnt.index, cnt.values)\n",
    "\n",
    "plt.subplot(1, 2, 2)\n",
    "plt.pie(cnt.values, labels = cnt.index, autopct = '%.2f%%', explode = [0.01, 0.01, 0.01])\n",
    "\n",
    "plt.tight_layout()\n",
    "plt.show()"
   ]
  },
  {
   "cell_type": "markdown",
   "metadata": {
    "id": "jJMtVG7Og86o"
   },
   "source": [
    "7) 기초통계량과 분포를 통해서 파악한 내용을 적어 봅시다.\n",
    "\n",
    "보이는 그대로를 넘어, 비즈니스 관점에서 고민하며 적어 봅시다."
   ]
  },
  {
   "cell_type": "markdown",
   "metadata": {
    "id": "2Tet6DMNg86o"
   },
   "source": [
    "> * 매장진열상태를 어떤 기준으로 나눴는지 알아볼 필요가 있다.\n",
    "> * 좋음: 21.25%, 보통: 54.75%, 나쁨: 24.00%\n",
    "    * 진열상태가 안 좋은 곳은 왜 안 좋은 지 알아볼 필요가 있다."
   ]
  },
  {
   "cell_type": "markdown",
   "metadata": {
    "id": "eq1EofUKg86o"
   },
   "source": [
    "8) 추가 분석해 볼 사항이 있나요?"
   ]
  },
  {
   "cell_type": "markdown",
   "metadata": {
    "id": "BzHLOVWkg86o"
   },
   "source": [
    "> * 매장진열상태가 판매량과 어떤 관계가 있는지 알아볼 필요가 있다."
   ]
  },
  {
   "cell_type": "markdown",
   "metadata": {
    "id": "9sLeiF5Kg9EO"
   },
   "source": [
    "### ⑧ Age"
   ]
  },
  {
   "cell_type": "code",
   "execution_count": 122,
   "metadata": {
    "id": "b6PK2oMvg9EO"
   },
   "outputs": [],
   "source": [
    "var = 'Age'"
   ]
  },
  {
   "cell_type": "markdown",
   "metadata": {
    "id": "OwXbdhiPg9EO"
   },
   "source": [
    "1) 변수의 비즈니스 의미"
   ]
  },
  {
   "cell_type": "markdown",
   "metadata": {
    "id": "RHXdVcPLg9EO"
   },
   "source": [
    "* 지역 인구의 평균 연령"
   ]
  },
  {
   "cell_type": "markdown",
   "metadata": {
    "id": "fbWLrevGg9EO"
   },
   "source": [
    "2) 숫자, 범주?"
   ]
  },
  {
   "cell_type": "markdown",
   "metadata": {
    "id": "feZUN5ZEg9EO"
   },
   "source": [
    "* 숫자"
   ]
  },
  {
   "cell_type": "markdown",
   "metadata": {
    "id": "Fn2lu70gg9EP"
   },
   "source": [
    "3) NaN 존재 유무 및 조치방안"
   ]
  },
  {
   "cell_type": "code",
   "execution_count": 123,
   "metadata": {
    "id": "jgnZjsBSg9EP"
   },
   "outputs": [
    {
     "data": {
      "text/plain": [
       "0"
      ]
     },
     "execution_count": 123,
     "metadata": {},
     "output_type": "execute_result"
    }
   ],
   "source": [
    "data[var].isna().sum()"
   ]
  },
  {
   "cell_type": "markdown",
   "metadata": {},
   "source": [
    "* NaN 존재하지 않음"
   ]
  },
  {
   "cell_type": "markdown",
   "metadata": {
    "id": "144W55l0g9EP"
   },
   "source": [
    "4) 가변수화 필요 여부"
   ]
  },
  {
   "cell_type": "markdown",
   "metadata": {
    "id": "2Ut_VYlhg9EP"
   },
   "source": [
    "* 필요없음"
   ]
  },
  {
   "cell_type": "markdown",
   "metadata": {
    "id": "HDFDDUk0g9EP"
   },
   "source": [
    "5) 기초통계량(수치화)"
   ]
  },
  {
   "cell_type": "code",
   "execution_count": 124,
   "metadata": {
    "id": "4ftZ4vQgg9EP"
   },
   "outputs": [
    {
     "data": {
      "text/plain": [
       "count    400.000000\n",
       "mean      53.322500\n",
       "std       16.200297\n",
       "min       25.000000\n",
       "25%       39.750000\n",
       "50%       54.500000\n",
       "75%       66.000000\n",
       "max       80.000000\n",
       "Name: Age, dtype: float64"
      ]
     },
     "execution_count": 124,
     "metadata": {},
     "output_type": "execute_result"
    }
   ],
   "source": [
    "data[var].describe()"
   ]
  },
  {
   "cell_type": "markdown",
   "metadata": {
    "id": "MeNxGtUrg9EP"
   },
   "source": [
    "6) 분포 확인(시각화)"
   ]
  },
  {
   "cell_type": "code",
   "execution_count": 126,
   "metadata": {
    "id": "OTPBtQKKg9EP"
   },
   "outputs": [
    {
     "data": {
      "image/png": "[encoded data removed]",
      "text/plain": [
       "<Figure size 576x576 with 4 Axes>"
      ]
     },
     "metadata": {
      "needs_background": "light"
     },
     "output_type": "display_data"
    }
   ],
   "source": [
    "warnings.filterwarnings(\"ignore\")\n",
    "\n",
    "mean = data[var].mean()\n",
    "\n",
    "plt.figure(figsize = (8,8))\n",
    "plt.subplot(2,2,1)\n",
    "sns.histplot(data[var], bins = 10)\n",
    "plt.axvline(mean, color='red', linestyle='-')\n",
    "plt.text(mean + 0.5, 20, mean, color='r')\n",
    "plt.title('bins 10')\n",
    "\n",
    "plt.subplot(2,2,2)\n",
    "data[var].plot(kind = 'kde')\n",
    "plt.axvline(mean, color='red', linestyle='-')\n",
    "plt.text(mean + 0.5, 0.01, mean, color='r')\n",
    "\n",
    "plt.subplot(2,2,3)\n",
    "sns.histplot(data[var], bins = 20)\n",
    "plt.axvline(mean, color='red', linestyle='-')\n",
    "plt.text(mean + 0.5, 10, mean, color='r')\n",
    "plt.title('bins 20')\n",
    "\n",
    "plt.subplot(2,2,4)\n",
    "sns.boxplot(data[var])\n",
    "plt.axvline(mean, color='red', linestyle='-')\n",
    "\n",
    "plt.tight_layout()\n",
    "plt.show()"
   ]
  },
  {
   "cell_type": "markdown",
   "metadata": {
    "id": "6HOl7KCRg9EP"
   },
   "source": [
    "7) 기초통계량과 분포를 통해서 파악한 내용을 적어 봅시다.\n",
    "\n",
    "보이는 그대로를 넘어, 비즈니스 관점에서 고민하며 적어 봅시다."
   ]
  },
  {
   "cell_type": "markdown",
   "metadata": {
    "id": "5vV_d6Fyg9EP"
   },
   "source": [
    "> * 평균연령이 가장 낮은 지역은 25세, 가장 높은 지역은 80세이다.\n",
    "> * 대부분의 지역(약 50%)에서 약 40~66세가 평균연령이다.\n",
    "    * 이 경우보다, 오히려 나머지 지역들에서 카시트를 살 확률이 더 높다.\n",
    "    * 평균연령 25세인 경우 아이를 가진 신혼부부, 평균연령 80세인 경우 손주를 가진 노부부일 확률이 크다."
   ]
  },
  {
   "cell_type": "markdown",
   "metadata": {
    "id": "EtnLunngg9EP"
   },
   "source": [
    "8) 추가 분석해 볼 사항이 있나요?"
   ]
  },
  {
   "cell_type": "markdown",
   "metadata": {
    "id": "TR6Q3-dJg9EP"
   },
   "source": [
    "> * 광고비 예산, 결혼여부, 자녀여부 등과 비교해볼 필요가 있다.\n",
    "> * 카시트가 필요한 연령의 자녀 또는 손주(10세 미만)를 둔 가정들만 평균 연령대를 구해볼 필요가 있다.\n",
    "    * 연령대에 따라 구매력이 달라짐"
   ]
  },
  {
   "cell_type": "markdown",
   "metadata": {
    "id": "GmxZa7uvhyXO"
   },
   "source": [
    "### ⑨ Urban"
   ]
  },
  {
   "cell_type": "code",
   "execution_count": 158,
   "metadata": {
    "id": "4M0F0lMIhyXP"
   },
   "outputs": [],
   "source": [
    "var = 'Urban'"
   ]
  },
  {
   "cell_type": "markdown",
   "metadata": {
    "id": "pgE9cYEfhyXP"
   },
   "source": [
    "1) 변수의 비즈니스 의미"
   ]
  },
  {
   "cell_type": "markdown",
   "metadata": {
    "id": "ViF2ygvShyXP"
   },
   "source": [
    "* 도심 지역 여부"
   ]
  },
  {
   "cell_type": "markdown",
   "metadata": {
    "id": "U9d2egLKhyXP"
   },
   "source": [
    "2) 숫자, 범주?"
   ]
  },
  {
   "cell_type": "markdown",
   "metadata": {
    "id": "EcIIpu-HhyXP"
   },
   "source": [
    "* 범주"
   ]
  },
  {
   "cell_type": "markdown",
   "metadata": {
    "id": "rGqiRGiHhyXQ"
   },
   "source": [
    "3) NaN 존재 유무 및 조치방안"
   ]
  },
  {
   "cell_type": "code",
   "execution_count": 145,
   "metadata": {
    "id": "TcpuOqakhyXQ"
   },
   "outputs": [
    {
     "data": {
      "text/plain": [
       "0"
      ]
     },
     "execution_count": 145,
     "metadata": {},
     "output_type": "execute_result"
    }
   ],
   "source": [
    "data[var].isna().sum()"
   ]
  },
  {
   "cell_type": "markdown",
   "metadata": {},
   "source": [
    "* NaN 존재하지 않음"
   ]
  },
  {
   "cell_type": "markdown",
   "metadata": {
    "id": "NZUB38p3hyXQ"
   },
   "source": [
    "4) 가변수화 필요 여부"
   ]
  },
  {
   "cell_type": "code",
   "execution_count": 146,
   "metadata": {
    "id": "STmIwDP4hyXQ"
   },
   "outputs": [
    {
     "data": {
      "text/plain": [
       "array(['Yes', 'No'], dtype=object)"
      ]
     },
     "execution_count": 146,
     "metadata": {},
     "output_type": "execute_result"
    }
   ],
   "source": [
    "data[var].unique()"
   ]
  },
  {
   "cell_type": "markdown",
   "metadata": {},
   "source": [
    "* 가변수화 필요"
   ]
  },
  {
   "cell_type": "markdown",
   "metadata": {
    "id": "pnv202kchyXQ"
   },
   "source": [
    "5) 기초통계량(수치화)"
   ]
  },
  {
   "cell_type": "code",
   "execution_count": 147,
   "metadata": {
    "id": "2U9dT66-hyXQ"
   },
   "outputs": [
    {
     "data": {
      "text/plain": [
       "Yes    282\n",
       "No     118\n",
       "Name: Urban, dtype: int64"
      ]
     },
     "execution_count": 147,
     "metadata": {},
     "output_type": "execute_result"
    }
   ],
   "source": [
    "data[var].value_counts()"
   ]
  },
  {
   "cell_type": "markdown",
   "metadata": {
    "id": "DCFaup0-hyXQ"
   },
   "source": [
    "6) 분포 확인(시각화)"
   ]
  },
  {
   "cell_type": "code",
   "execution_count": 159,
   "metadata": {
    "id": "AKqKmQv5hyXQ"
   },
   "outputs": [
    {
     "data": {
      "image/png": "[encoded data removed]",
      "text/plain": [
       "<Figure size 576x288 with 2 Axes>"
      ]
     },
     "metadata": {
      "needs_background": "light"
     },
     "output_type": "display_data"
    }
   ],
   "source": [
    "cnt = data[var].value_counts()\n",
    "\n",
    "plt.figure(figsize = (8,4))\n",
    "\n",
    "plt.subplot(1, 2, 1)\n",
    "plt.barh(cnt.index, cnt.values)\n",
    "\n",
    "plt.subplot(1, 2, 2)\n",
    "plt.pie(cnt.values, labels = cnt.index, autopct = '%.2f%%', explode = [0.01, 0.01])\n",
    "\n",
    "plt.tight_layout()\n",
    "plt.show()"
   ]
  },
  {
   "cell_type": "markdown",
   "metadata": {
    "id": "mk1xIymFhyXQ"
   },
   "source": [
    "7) 기초통계량과 분포를 통해서 파악한 내용을 적어 봅시다.\n",
    "\n",
    "보이는 그대로를 넘어, 비즈니스 관점에서 고민하며 적어 봅시다."
   ]
  },
  {
   "cell_type": "markdown",
   "metadata": {
    "id": "WHWcEhw-hyXV"
   },
   "source": [
    "> * 도심인 지역이 70.5%, 아닌 지역이 29.5% 분포를 보이고 있다.\n",
    "> * 도심이 아닌 지역의 평균연령이 고령일 것으로 추정\n",
    "> * 도심이 아닌 지역에 대해 광고비 예산이 0원으로 편성되었을 것으로 추정"
   ]
  },
  {
   "cell_type": "markdown",
   "metadata": {
    "id": "uWnlgNkxhyXV"
   },
   "source": [
    "8) 추가 분석해 볼 사항이 있나요?"
   ]
  },
  {
   "cell_type": "markdown",
   "metadata": {
    "id": "z4NNnyp5hyXW"
   },
   "source": [
    "> * 광고비 예산, 평균연령, 인구수, 소득수준 등과 비교해볼 필요가 있다.\n",
    "> * 차량 소유 여부를 파악해볼 필요가 있다."
   ]
  },
  {
   "cell_type": "markdown",
   "metadata": {
    "id": "ieLyLWqehz_N"
   },
   "source": [
    "### ⑩ US"
   ]
  },
  {
   "cell_type": "code",
   "execution_count": 163,
   "metadata": {
    "id": "fd-_srHFhz_N"
   },
   "outputs": [],
   "source": [
    "var = 'US'"
   ]
  },
  {
   "cell_type": "markdown",
   "metadata": {
    "id": "XDyTt51thz_N"
   },
   "source": [
    "1) 변수의 비즈니스 의미"
   ]
  },
  {
   "cell_type": "markdown",
   "metadata": {
    "id": "w8dpuN56hz_N"
   },
   "source": [
    "* 매장이 미국에 있는지 여부"
   ]
  },
  {
   "cell_type": "markdown",
   "metadata": {
    "id": "eqVuZ7whhz_N"
   },
   "source": [
    "2) 숫자, 범주?"
   ]
  },
  {
   "cell_type": "markdown",
   "metadata": {
    "id": "XGUi5ntHhz_N"
   },
   "source": [
    "* 범주"
   ]
  },
  {
   "cell_type": "markdown",
   "metadata": {
    "id": "V44RWsPFhz_O"
   },
   "source": [
    "3) NaN 존재 유무 및 조치방안"
   ]
  },
  {
   "cell_type": "code",
   "execution_count": 56,
   "metadata": {
    "id": "VMA9HBaghz_O"
   },
   "outputs": [
    {
     "data": {
      "text/plain": [
       "0"
      ]
     },
     "execution_count": 56,
     "metadata": {},
     "output_type": "execute_result"
    }
   ],
   "source": [
    "data[var].isna().sum()"
   ]
  },
  {
   "cell_type": "markdown",
   "metadata": {},
   "source": [
    "* NaN 존재하지 않음"
   ]
  },
  {
   "cell_type": "markdown",
   "metadata": {
    "id": "fGl-MNOjhz_O"
   },
   "source": [
    "4) 가변수화 필요 여부"
   ]
  },
  {
   "cell_type": "code",
   "execution_count": 57,
   "metadata": {
    "id": "5dFqSW0Qhz_O"
   },
   "outputs": [
    {
     "data": {
      "text/plain": [
       "array(['Yes', 'No'], dtype=object)"
      ]
     },
     "execution_count": 57,
     "metadata": {},
     "output_type": "execute_result"
    }
   ],
   "source": [
    "data[var].unique()"
   ]
  },
  {
   "cell_type": "markdown",
   "metadata": {},
   "source": [
    "* 가변수화 필요"
   ]
  },
  {
   "cell_type": "markdown",
   "metadata": {
    "id": "pNse3NxPhz_O"
   },
   "source": [
    "5) 기초통계량(수치화)"
   ]
  },
  {
   "cell_type": "code",
   "execution_count": 58,
   "metadata": {
    "id": "ZxC2dwoxhz_O"
   },
   "outputs": [
    {
     "data": {
      "text/plain": [
       "Yes    258\n",
       "No     142\n",
       "Name: US, dtype: int64"
      ]
     },
     "execution_count": 58,
     "metadata": {},
     "output_type": "execute_result"
    }
   ],
   "source": [
    "data[var].value_counts()"
   ]
  },
  {
   "cell_type": "markdown",
   "metadata": {
    "id": "mPaDd358hz_O"
   },
   "source": [
    "6) 분포 확인(시각화)"
   ]
  },
  {
   "cell_type": "code",
   "execution_count": 162,
   "metadata": {
    "id": "HNV_pB3whz_O"
   },
   "outputs": [
    {
     "data": {
      "image/png": "[encoded data removed]",
      "text/plain": [
       "<Figure size 576x288 with 2 Axes>"
      ]
     },
     "metadata": {
      "needs_background": "light"
     },
     "output_type": "display_data"
    }
   ],
   "source": [
    "cnt = data[var].value_counts()\n",
    "\n",
    "plt.figure(figsize = (8,4))\n",
    "\n",
    "plt.subplot(1, 2, 1)\n",
    "plt.barh(cnt.index, cnt.values)\n",
    "\n",
    "plt.subplot(1, 2, 2)\n",
    "plt.pie(cnt.values, labels = cnt.index, autopct = '%.2f%%', explode = [0.01, 0.01])\n",
    "\n",
    "plt.tight_layout()\n",
    "plt.show()"
   ]
  },
  {
   "cell_type": "markdown",
   "metadata": {
    "id": "gnp_hJExhz_O"
   },
   "source": [
    "7) 기초통계량과 분포를 통해서 파악한 내용을 적어 봅시다.\n",
    "\n",
    "보이는 그대로를 넘어, 비즈니스 관점에서 고민하며 적어 봅시다."
   ]
  },
  {
   "cell_type": "markdown",
   "metadata": {
    "id": "EJZZ9nXwhz_O"
   },
   "source": [
    "> * 64.5%의 매장이 미국에 있다.\n",
    "    * 미국은 땅이 크기때문에 차량을 소유하고 있을 확률이 크다.\n",
    "        * 카시트를 사기 위해선 차량이 필요하다."
   ]
  },
  {
   "cell_type": "markdown",
   "metadata": {
    "id": "g3UL3aqhhz_O"
   },
   "source": [
    "8) 추가 분석해 볼 사항이 있나요?"
   ]
  },
  {
   "cell_type": "markdown",
   "metadata": {
    "id": "VUkDKI1ehz_O"
   },
   "source": [
    "> * 판매량과 비교해볼 필요가 있다.\n",
    "> * 국내외 매장 간 자사 가격, 경쟁사 가격, 광고비 예산 등과 비교해볼 필요가 있다."
   ]
  }
 ],
 "metadata": {
  "colab": {
   "collapsed_sections": [
    "2KcdJrQNfJCZ",
    "9WGX3Pm8g8HV",
    "CPQ4kqneg8SS",
    "oGaBjzSYg8ch",
    "Pf9iFSXpg8mZ",
    "-MNN7Zplg8wC",
    "m5zcg9CCg86m",
    "9sLeiF5Kg9EO",
    "GmxZa7uvhyXO",
    "ieLyLWqehz_N"
   ],
   "name": "06과 단변량분석 종합실습과제.ipynb",
   "provenance": [],
   "toc_visible": true
  },
  "kernelspec": {
   "display_name": "Python 3",
   "language": "python",
   "name": "python3"
  },
  "language_info": {
   "codemirror_mode": {
    "name": "ipython",
    "version": 3
   },
   "file_extension": ".py",
   "mimetype": "text/x-python",
   "name": "python",
   "nbconvert_exporter": "python",
   "pygments_lexer": "ipython3",
   "version": "3.8.8"
  }
 },
 "nbformat": 4,
 "nbformat_minor": 1
}
